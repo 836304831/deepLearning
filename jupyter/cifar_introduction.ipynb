{
 "cells": [
  {
   "cell_type": "code",
   "execution_count": 32,
   "metadata": {
    "collapsed": true
   },
   "outputs": [
    {
     "name": "stdout",
     "output_type": "stream",
     "text": [
      "['data_batch_2', 'data_batch_5', 'readme.html', 'test_batch', 'batches.meta', 'data_batch_3', 'data_batch_4', 'data_batch_1']\n",
      "<class 'dict'>\n",
      "dict_keys(['batch_label', 'labels', 'data', 'filenames'])\n",
      "<class 'str'>\n",
      "<class 'list'>\n",
      "<class 'numpy.ndarray'>\n",
      "<class 'list'>\n",
      "*********data***************\n",
      "(10000, 3072)\n",
      "training batch 1 of 5\n",
      "[6, 9, 9]\n",
      "[[ 59  43  50 ... 140  84  72]\n",
      " [154 126 105 ... 139 142 144]\n",
      " [255 253 253 ...  83  83  84]]\n",
      "['leptodactylus_pentadactylus_s_000004.png', 'camion_s_000148.png', 'tipper_truck_s_001250.png']\n"
     ]
    }
   ],
   "source": [
    "# 查看cifar文件格式\n",
    "\n",
    "import pickle\n",
    "import numpy as np\n",
    "import os\n",
    "\n",
    "\n",
    "cifar_dir = \"./data/cifar-10-batches-py\"\n",
    "print(os.listdir(cifar_dir))\n",
    "\n",
    "data = None\n",
    "with open(cifar_dir + \"/data_batch_1\", \"rb\") as f:\n",
    "    # encoding should set ISO-8859-1, or it will throw error\n",
    "    data = pickle.load(f, encoding='ISO-8859-1')\n",
    "    print(type(data))\n",
    "    print(data.keys())\n",
    "    print(type(data['batch_label']))\n",
    "    print(type(data[\"labels\"]))\n",
    "    print(type(data[\"data\"]))\n",
    "    print(type(data[\"filenames\"]))\n",
    "    \n",
    "    print(\"*********data***************\")\n",
    "    print(data[\"data\"].shape)\n",
    "    print(data[\"batch_label\"])\n",
    "    print(data[\"labels\"][0:3])\n",
    "    print(data[\"data\"][0:3])\n",
    "    print(data[\"filenames\"][0:3])\n",
    "    \n",
    "    \n",
    "    "
   ]
  },
  {
   "cell_type": "code",
   "execution_count": 46,
   "metadata": {},
   "outputs": [
    {
     "name": "stdout",
     "output_type": "stream",
     "text": [
      "[255 253 253 ...  83  83  84]\n",
      "(3, 32, 32)\n",
      "(32, 32, 3)\n"
     ]
    },
    {
     "data": {
      "text/plain": [
       "<matplotlib.image.AxesImage at 0x7f4f00069b38>"
      ]
     },
     "execution_count": 46,
     "metadata": {},
     "output_type": "execute_result"
    },
    {
     "data": {
      "image/png": "[encoded data removed]",
      "text/plain": [
       "<Figure size 432x288 with 1 Axes>"
      ]
     },
     "metadata": {},
     "output_type": "display_data"
    }
   ],
   "source": [
    "import matplotlib.pyplot as plt\n",
    "img_data = data[\"data\"][2]\n",
    "print(img_data)\n",
    "img_data = img_data.reshape((3, 32, 32))\n",
    "print(img_data.shape)\n",
    "img_data = img_data.transpose((1, 2, 0))\n",
    "print(img_data.shape)\n",
    "\n",
    "%matplotlib inline\n",
    "plt.imshow(img_data)"
   ]
  },
  {
   "cell_type": "code",
   "execution_count": null,
   "metadata": {},
   "outputs": [],
   "source": []
  }
 ],
 "metadata": {
  "kernelspec": {
   "display_name": "Python 3",
   "language": "python",
   "name": "python3"
  },
  "language_info": {
   "codemirror_mode": {
    "name": "ipython",
    "version": 3
   },
   "file_extension": ".py",
   "mimetype": "text/x-python",
   "name": "python",
   "nbconvert_exporter": "python",
   "pygments_lexer": "ipython3",
   "version": "3.6.5"
  }
 },
 "nbformat": 4,
 "nbformat_minor": 2
}
