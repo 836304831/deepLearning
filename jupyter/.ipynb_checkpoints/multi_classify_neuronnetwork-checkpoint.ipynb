{
 "cells": [
  {
   "cell_type": "code",
   "execution_count": 1,
   "metadata": {},
   "outputs": [
    {
     "name": "stdout",
     "output_type": "stream",
     "text": [
      "loading data ......\n",
      "file: ../data/cifar-10-batches-py/data_batch_1\n",
      "file: ../data/cifar-10-batches-py/data_batch_2\n",
      "file: ../data/cifar-10-batches-py/data_batch_3\n",
      "file: ../data/cifar-10-batches-py/data_batch_4\n",
      "file: ../data/cifar-10-batches-py/data_batch_5\n",
      "(50000, 3072)\n",
      "(50000,)\n",
      "first 3 data: [[0.4627451  0.3372549  0.39215686 ... 1.09803922 0.65882353 0.56470588]\n",
      " [1.20784314 0.98823529 0.82352941 ... 1.09019608 1.11372549 1.12941176]\n",
      " [2.         1.98431373 1.98431373 ... 0.65098039 0.65098039 0.65882353]]\n",
      "first 10 label: [6 9 9 4 1 1 2 7 8 3]\n",
      "loading data ......\n",
      "file: ../data/cifar-10-batches-py/test_batch\n",
      "(10000, 3072)\n",
      "(10000,)\n",
      "first 3 data: [[1.23921569 1.24705882 1.29411765 ... 0.97254902 1.01176471 0.8627451 ]\n",
      " [1.84313725 1.81176471 1.81960784 ... 1.39607843 1.49803922 1.56078431]\n",
      " [1.23921569 1.23921569 1.09019608 ... 0.0627451  0.02352941 0.05490196]]\n",
      "first 10 label: [3 8 8 0 6 6 1 6 3 1]\n"
     ]
    }
   ],
   "source": [
    "import pickle\n",
    "import numpy as np\n",
    "import os\n",
    "class DataManager(object):\n",
    "    '''data manager'''\n",
    "    def __init__(self, data_path, need_shuffle=False):\n",
    "        self.data_path = data_path\n",
    "        self.all_data = []\n",
    "        self.all_labels = []\n",
    "        self.need_shuffle = need_shuffle\n",
    "        self.indicate = 0\n",
    "    \n",
    "    def data_process(self):\n",
    "        self.data_load()\n",
    "        if self.need_shuffle:\n",
    "            self.shuffle_data()\n",
    "        return self.all_data, self.all_labels\n",
    "        \n",
    "    def data_load(self):\n",
    "        print(\"loading data ......\")\n",
    "        for file in self.data_path:\n",
    "            print(\"file:\", file)\n",
    "            if os.path.isfile(file):\n",
    "                with open(file, \"rb\") as f:\n",
    "                    loaded_data = pickle.load(f, encoding=\"ISO-8859-1\")\n",
    "                    data = loaded_data.get(\"data\")\n",
    "                    label = loaded_data.get(\"labels\")\n",
    "                    self.all_data.append(data)\n",
    "                    self.all_labels.append(label)\n",
    "        self.all_data = np.vstack(self.all_data)\n",
    "        self.all_labels = np.hstack(self.all_labels)\n",
    "        self.all_data = self.all_data/127.5\n",
    "        print(self.all_data.shape)\n",
    "        print(self.all_labels.shape)\n",
    "        print(\"first 3 data:\", self.all_data[0: 3])\n",
    "        print(\"first 10 label:\", self.all_labels[0: 10])\n",
    "\n",
    "    \n",
    "    def shuffle_data(self):\n",
    "#         print(\"shuffle_data.......\")\n",
    "        idx = np.random.permutation(self.all_data.shape[0])\n",
    "        self.all_data = self.all_data[idx]\n",
    "        self.all_labels = self.all_labels[idx]\n",
    "#         print(\"first 3 data:\", self.all_data[0: 3])\n",
    "#         print(\"first 3 label:\", self.all_labels[0: 10])\n",
    "    \n",
    "    def next_batch_data(self, batch_size):\n",
    "        if batch_size > self.all_data.shape[0]:\n",
    "            raise Exception(\"batch size is larger than data size\")\n",
    "        if self.indicate + batch_size > self.all_data.shape[0]:\n",
    "            if self.need_shuffle:\n",
    "                self.shuffle_data()\n",
    "                self.indicate = 0\n",
    "            else:\n",
    "                raise Exception(\"has no more data\")\n",
    "        batch_data = self.all_data[self.indicate: self.indicate + batch_size]\n",
    "        batch_label = self.all_labels[self.indicate: self.indicate + batch_size]\n",
    "        self.indicate = self.indicate + batch_size\n",
    "        return batch_data, batch_label\n",
    "\n",
    "cifar_dir = \"../data/cifar-10-batches-py\"\n",
    "# cifar_dir = \"workspace/workspace_py/learn/deepLearning/data/cifar-10-batches-py\"\n",
    "train_data_file = [cifar_dir + \"/data_batch_%d\" % i for i in range(1, 6)]\n",
    "test_data_file = [cifar_dir + \"/test_batch\"]\n",
    "\n",
    "train_data_manager = DataManager(train_data_file, need_shuffle=True)\n",
    "train_data_manager.data_process()\n",
    "\n",
    "test_data_manager = DataManager(test_data_file, need_shuffle=False)\n",
    "test_data, test_label = test_data_manager.data_process()\n"
   ]
  },
  {
   "cell_type": "code",
   "execution_count": 2,
   "metadata": {},
   "outputs": [
    {
     "name": "stderr",
     "output_type": "stream",
     "text": [
      "/home/acedar/anaconda3/lib/python3.6/site-packages/h5py/__init__.py:36: FutureWarning: Conversion of the second argument of issubdtype from `float` to `np.floating` is deprecated. In future, it will be treated as `np.float64 == np.dtype(float).type`.\n",
      "  from ._conv import register_converters as _register_converters\n"
     ]
    },
    {
     "name": "stdout",
     "output_type": "stream",
     "text": [
      "mul_res.shape: (?, 10)\n",
      "b shape: (10,)\n",
      "y_.shape: (?, 10)\n"
     ]
    }
   ],
   "source": [
    "\"\"\" building network \"\"\"\n",
    "import tensorflow as tf\n",
    "\n",
    "x = tf.placeholder(tf.float32, [None, 3072])\n",
    "y = tf.placeholder(tf.int64, [None])\n",
    "\n",
    "w = tf.get_variable(\"w\", [x.get_shape()[-1], 10], initializer=tf.random_normal_initializer(0, 1))\n",
    "b = tf.get_variable(\"b\", [10], initializer=tf.constant_initializer(0.0))\n",
    "\n",
    "mul_res = tf.matmul(x, w)\n",
    "print(\"mul_res.shape:\", mul_res.shape)\n",
    "print(\"b shape:\", b.shape)\n",
    "y_ = tf.matmul(x, w) + b\n",
    "print(\"y_.shape:\", y_.shape)\n",
    "pred_y = tf.nn.softmax(y_)\n",
    "\n",
    "y_one_hot = tf.one_hot(y, 10, dtype=tf.float32)\n",
    "loss = tf.reduce_mean(tf.square(y_one_hot - pred_y))\n",
    "\n",
    "train_op = tf.train.AdadeltaOptimizer(1e-3).minimize(loss)\n",
    "\n",
    "pred_max_y = tf.argmax(pred_y, axis=1)\n",
    "accuracy = tf.reduce_mean(tf.cast(tf.equal(y, pred_max_y), dtype=tf.float32))\n",
    "\n",
    "\n",
    "                          "
   ]
  },
  {
   "cell_type": "code",
   "execution_count": 3,
   "metadata": {},
   "outputs": [
    {
     "name": "stdout",
     "output_type": "stream",
     "text": [
      "train step: 1000, acc:0.03125, loss:0.19252\n",
      "train step: 2000, acc:0.00000, loss:0.19997\n",
      "train step: 3000, acc:0.09375, loss:0.17686\n",
      "train step: 4000, acc:0.06250, loss:0.18677\n",
      "train step: 5000, acc:0.12500, loss:0.17230\n",
      "test step: 5000, acc:0.09090, loss:0.17950\n",
      "train step: 6000, acc:0.03125, loss:0.19245\n",
      "train step: 7000, acc:0.03125, loss:0.19304\n",
      "train step: 8000, acc:0.00000, loss:0.19729\n",
      "train step: 9000, acc:0.03125, loss:0.18885\n",
      "train step: 10000, acc:0.00000, loss:0.19838\n",
      "test step: 10000, acc:0.09110, loss:0.17949\n"
     ]
    }
   ],
   "source": [
    "\n",
    "\"\"\" train model \"\"\"\n",
    "import tensorflow as tf\n",
    "\n",
    "batch_size = 32\n",
    "iteration = 10000\n",
    "gpu_options = tf.GPUOptions(per_process_gpu_memory_fraction=0.66)\n",
    "with tf.Session(config=tf.ConfigProto(gpu_options=gpu_options)) as sess:\n",
    "    sess.run(tf.global_variables_initializer())\n",
    "    \n",
    "    \n",
    "    for i in range(iteration):\n",
    "        batch_data, batch_label = train_data_manager.next_batch_data(batch_size)\n",
    "#         print(\"batch_data.shape:\", batch_data.shape)\n",
    "#         print(\"label.size:\", len(batch_label))\n",
    "        acc_res, loss_res, _ = sess.run([accuracy, loss, train_op], feed_dict={x: batch_data, y: batch_label})\n",
    "        if (i + 1) % 1000 == 0:\n",
    "            print(\"train step: %d, acc:%4.5f, loss:%4.5f\" % ((i + 1), acc_res, loss_res))\n",
    "        if (i + 1) % 5000 == 0:\n",
    "            \n",
    "            acc_res, loss_res = sess.run([accuracy, loss], feed_dict={x: test_data, y: test_label})\n",
    "            print(\"test step: %d, acc:%4.5f, loss:%4.5f\" % ((i + 1), acc_res, loss_res))\n",
    "                                         "
   ]
  },
  {
   "cell_type": "code",
   "execution_count": null,
   "metadata": {},
   "outputs": [],
   "source": []
  }
 ],
 "metadata": {
  "celltoolbar": "Slideshow",
  "kernelspec": {
   "display_name": "Python 3",
   "language": "python",
   "name": "python3"
  },
  "language_info": {
   "codemirror_mode": {
    "name": "ipython",
    "version": 3
   },
   "file_extension": ".py",
   "mimetype": "text/x-python",
   "name": "python",
   "nbconvert_exporter": "python",
   "pygments_lexer": "ipython3",
   "version": "3.6.5"
  }
 },
 "nbformat": 4,
 "nbformat_minor": 2
}
